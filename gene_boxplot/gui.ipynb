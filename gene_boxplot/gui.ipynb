{
 "cells": [
  {
   "cell_type": "code",
   "execution_count": 1,
   "id": "29601f54",
   "metadata": {},
   "outputs": [],
   "source": [
    "import pandas as pd\n",
    "import numpy as np\n",
    "import matplotlib.pyplot as plt\n",
    "import seaborn as sns\n",
    "import sys\n",
    "from PIL import Image\n",
    "import os\n",
    "import re\n",
    "import warnings\n",
    "\n",
    "warnings.filterwarnings('ignore')\n"
   ]
  },
  {
   "cell_type": "code",
   "execution_count": 6,
   "id": "0aaef94f",
   "metadata": {},
   "outputs": [
    {
     "name": "stdout",
     "output_type": "stream",
     "text": [
      "Index(['Unnamed: 0', 'ID', 'slow1', 'slow2', 'slow3', 'fast1', 'fast2',\n",
      "       'fast3', '22c06_1', '22c06_2', '22c06_3', '22c06_4', 'PF1', 'PF2',\n",
      "       'PF3', 'PF4', 'AC1', 'AC2', 'AC3', 'name', 'symbol', 'Summary', 'GO'],\n",
      "      dtype='object')\n"
     ]
    }
   ],
   "source": [
    "df = pd.read_csv('all_cells_tpm.csv')\n",
    "print(df.columns)\n",
    "\n",
    "# Here are the things you change.\n",
    "mode = 'name'\t# can be Summary, name, symbol, GO (caps matter)\n",
    "search_term = 'clock'\t# not case sensititve\n",
    "max_stitch = 10\t\t# number of plots per row \n",
    "outputName = 'image1.jpg'\n",
    "\n",
    "imageFolder = 'images/'\n",
    "tempDir = 'temp/'\n",
    "groups = ['slow', 'fast', '22c06_', 'PF', 'AC']\n"
   ]
  },
  {
   "cell_type": "code",
   "execution_count": 7,
   "id": "b10fbc78",
   "metadata": {
    "scrolled": true
   },
   "outputs": [
    {
     "name": "stdout",
     "output_type": "stream",
     "text": [
      "There are 3 matching terms.\n"
     ]
    }
   ],
   "source": [
    "extract_groups = [[t for t in df.columns if g in t] for g in groups]\n",
    "fb_list = []\n",
    "# Find search term in mode and add to list\n",
    "for ind in df.index:\n",
    "    try:\n",
    "        if re.search(search_term, df[mode][ind], re.IGNORECASE):\n",
    "            fb_list.append(df['ID'][ind])\n",
    "    except:\n",
    "        pass\n",
    "    \n",
    "print(f'There are {len(fb_list)} matching terms.')\n",
    "\n",
    "# Plot each TPM for each gene\n",
    "for k,fb in enumerate(fb_list):\n",
    "    test = [np.array(df[df.ID == fb][g]).flatten() for g in extract_groups]\n",
    "    g = sns.boxplot(data=test)\n",
    "    g.set_xticklabels(groups)\n",
    "    g.set_title(df[df.ID == fb].name.item())\n",
    "    plt.savefig(tempDir+'Test'+str(k)+'.jpg')\n",
    "    plt.close()\n",
    "\n",
    "# stitch images together\n",
    "image_list = [tempDir +'Test'+str(k)+'.jpg' for k in range(len(fb_list))]\n",
    "tot_images = len(image_list)\n",
    "\n",
    "images = [Image.open(x) for x in image_list]\n",
    "width, height = images[0].size\n",
    "\n",
    "total_width = max_stitch*width\n",
    "max_height = (tot_images//max_stitch + 1*(tot_images%max_stitch>0))*height\n",
    "\n",
    "new_im = Image.new('RGB', (total_width, max_height))\n",
    "\n",
    "for k,im in enumerate(images):\n",
    "    x,y = (k//max_stitch),(k%max_stitch)\n",
    "    new_im.paste(im, (y*width,x*height))\n",
    "\n",
    "new_im.save(imageFolder+outputName)\n"
   ]
  },
  {
   "cell_type": "code",
   "execution_count": null,
   "metadata": {},
   "outputs": [],
   "source": []
  },
  {
   "cell_type": "code",
   "execution_count": null,
   "metadata": {},
   "outputs": [],
   "source": []
  }
 ],
 "metadata": {
  "kernelspec": {
   "display_name": "Python 3 (ipykernel)",
   "language": "python",
   "name": "python3"
  },
  "language_info": {
   "codemirror_mode": {
    "name": "ipython",
    "version": 3
   },
   "file_extension": ".py",
   "mimetype": "text/x-python",
   "name": "python",
   "nbconvert_exporter": "python",
   "pygments_lexer": "ipython3",
   "version": "3.9.18"
  }
 },
 "nbformat": 4,
 "nbformat_minor": 5
}
