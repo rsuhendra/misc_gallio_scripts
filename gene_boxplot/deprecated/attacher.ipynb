{
 "cells": [
  {
   "cell_type": "code",
   "execution_count": 2,
   "id": "29601f54",
   "metadata": {},
   "outputs": [],
   "source": [
    "import pandas as pd\n",
    "import numpy as np\n",
    "import matplotlib.pyplot as plt\n",
    "import seaborn as sns\n",
    "import sys\n",
    "from PIL import Image"
   ]
  },
  {
   "cell_type": "code",
   "execution_count": 168,
   "id": "0aaef94f",
   "metadata": {},
   "outputs": [
    {
     "name": "stdout",
     "output_type": "stream",
     "text": [
      "Index(['FB', 'slow1', 'slow2', 'slow3', 'fast1', 'fast2', 'fast3', '22c06_1',\n",
      "       '22c06_2', '22c06_3', '22c06_4', 'PF1', 'PF2', 'PF3', 'PF4', 'AC1',\n",
      "       'AC2', 'AC3', 'name', 'symbol', 'go', 'summary'],\n",
      "      dtype='object')\n"
     ]
    }
   ],
   "source": [
    "df = pd.read_csv('all_cells_tpm.csv')\n",
    "print(df.columns)\n",
    "mode = 'summary'\n",
    "search_term = 'heat'\n",
    "groups = ['slow', 'fast', '22c06_', 'PF', 'AC']"
   ]
  },
  {
   "cell_type": "code",
   "execution_count": 169,
   "id": "b10fbc78",
   "metadata": {
    "scrolled": true
   },
   "outputs": [],
   "source": [
    "extract_groups = [[t for t in df.columns if g in t] for g in groups]\n",
    "fb_list = []\n",
    "for ind in df.index:\n",
    "    try:\n",
    "        if search_term in df[mode][ind]:\n",
    "            fb_list.append(df['FB'][ind])\n",
    "    except:\n",
    "        pass\n",
    "\n",
    "for k,fb in enumerate(fb_list):\n",
    "    test = [np.array(df[df.FB == fb][g]).flatten() for g in extract_groups]\n",
    "    g = sns.boxplot(test)\n",
    "    g.set_xticklabels(groups)\n",
    "    g.set_title(df[df.FB == fb].name.item())\n",
    "    plt.savefig('temp/Test'+str(k)+'.jpg')\n",
    "    plt.close()\n",
    "\n",
    "# stitch images together\n",
    "image_list = ['temp/Test'+str(k)+'.jpg' for k in range(len(fb_list))]\n",
    "max_stitch = 10\n",
    "tot_images = len(image_list)\n",
    "\n",
    "images = [Image.open(x) for x in image_list]\n",
    "width, height = images[0].size\n",
    "\n",
    "total_width = max_stitch*width\n",
    "max_height = (tot_images//max_stitch + 1*(tot_images%max_stitch>0))*height\n",
    "\n",
    "new_im = Image.new('RGB', (total_width, max_height))\n",
    "\n",
    "for k,im in enumerate(images):\n",
    "    x,y = (k//max_stitch),(k%max_stitch)\n",
    "    new_im.paste(im, (y*width,x*height))\n",
    "\n",
    "new_im.save('image1.jpg')\n"
   ]
  },
  {
   "cell_type": "markdown",
   "id": "96a8937c",
   "metadata": {},
   "source": [
    "# DEPRECATED"
   ]
  },
  {
   "cell_type": "code",
   "execution_count": 3,
   "id": "71a63715",
   "metadata": {},
   "outputs": [],
   "source": [
    "df = pd.read_csv('gene_association.fb', sep='\\t',skiprows=5, header=None)\n",
    "df = df[[1,4]]\n",
    "df.columns=['fb','go']\n",
    "\n",
    "list_of_fbs = set(df.fb)\n",
    "go_dict = {fb: [] for fb in list_of_fbs}\n",
    "\n",
    "\n",
    "for ind in df.index:\n",
    "    go_dict[df['fb'][ind]].append(df['go'][ind])\n",
    "\n",
    "for fb, go in go_dict.items():\n",
    "    go_dict[fb] = ';'.join(go)"
   ]
  },
  {
   "cell_type": "code",
   "execution_count": 4,
   "id": "59d97e14",
   "metadata": {},
   "outputs": [],
   "source": [
    "df = pd.read_csv('best_gene_summary_fb_2023_04.tsv', sep='\\t',skiprows=8)\n",
    "list_of_fbs = set(df['#FBgn_ID'])\n",
    "sum_dict = {fb: 'o' for fb in list_of_fbs}\n",
    "\n",
    "for ind in df.index:\n",
    "    sum_dict[df['#FBgn_ID'][ind]] = (df['Summary'][ind])"
   ]
  },
  {
   "cell_type": "code",
   "execution_count": null,
   "id": "d3328d06",
   "metadata": {},
   "outputs": [],
   "source": [
    "df = pd.read_csv('all_cells_tpm.csv')\n",
    "df=df.rename(columns = {'Unnamed: 0':'FB'})\n",
    "df[\"go\"] = np.nan\n",
    "df[\"summary\"] = np.nan"
   ]
  },
  {
   "cell_type": "code",
   "execution_count": 45,
   "id": "092e31a3",
   "metadata": {},
   "outputs": [],
   "source": [
    "for ind in df.index:\n",
    "    try:\n",
    "        df.loc[ind,'go'] = go_dict[df['FB'][ind]]\n",
    "    except:\n",
    "        df.loc[ind,'go'] = np.nan\n",
    "        \n",
    "    try:\n",
    "        df.loc[ind,'summary'] = sum_dict[df['FB'][ind]]\n",
    "    except:\n",
    "        df.loc[ind,'summary'] = np.nan"
   ]
  },
  {
   "cell_type": "code",
   "execution_count": 126,
   "id": "7bc66927",
   "metadata": {},
   "outputs": [],
   "source": [
    "df.to_csv('all_cells_tpm.csv', index=False)"
   ]
  },
  {
   "cell_type": "code",
   "execution_count": null,
   "id": "5a45af08",
   "metadata": {},
   "outputs": [],
   "source": []
  }
 ],
 "metadata": {
  "kernelspec": {
   "display_name": "Python 3 (ipykernel)",
   "language": "python",
   "name": "python3"
  },
  "language_info": {
   "codemirror_mode": {
    "name": "ipython",
    "version": 3
   },
   "file_extension": ".py",
   "mimetype": "text/x-python",
   "name": "python",
   "nbconvert_exporter": "python",
   "pygments_lexer": "ipython3",
   "version": "3.8.18"
  }
 },
 "nbformat": 4,
 "nbformat_minor": 5
}
